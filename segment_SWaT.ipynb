{
 "cells": [
  {
   "cell_type": "code",
   "execution_count": 14,
   "metadata": {
    "ExecuteTime": {
     "end_time": "2023-06-07T11:20:35.017864Z",
     "start_time": "2023-06-07T11:20:35.008791Z"
    }
   },
   "outputs": [],
   "source": [
    "from matplotlib.pylab import gca, figure, plot, subplot, title, xlabel, ylabel, xlim,show\n",
    "from matplotlib.lines import Line2D\n",
    "import src.segment as segment\n",
    "import src.fit as fit\n",
    "import matplotlib.pyplot as plt\n",
    "import pandas as pd\n",
    "import warnings\n",
    "warnings.filterwarnings('ignore')"
   ]
  },
  {
   "cell_type": "markdown",
   "metadata": {},
   "source": [
    "# Paramter"
   ]
  },
  {
   "cell_type": "code",
   "execution_count": 5,
   "metadata": {
    "ExecuteTime": {
     "end_time": "2023-06-07T11:15:16.663728Z",
     "start_time": "2023-06-07T11:15:16.659128Z"
    }
   },
   "outputs": [],
   "source": [
    "DATA_PATH = \"data/SWaT/\""
   ]
  },
  {
   "cell_type": "code",
   "execution_count": 6,
   "metadata": {
    "ExecuteTime": {
     "end_time": "2023-06-07T11:15:16.808288Z",
     "start_time": "2023-06-07T11:15:16.797302Z"
    }
   },
   "outputs": [],
   "source": [
    "def draw_plot(data,plot_title):\n",
    "    plot(range(len(data)),data,alpha=0.8,color='red')\n",
    "    title(plot_title)\n",
    "    xlabel(\"Samples\")\n",
    "    ylabel(\"Signal\")\n",
    "    xlim((0,len(data)-1))\n",
    "\n",
    "def draw_segments(segments):\n",
    "    ax = gca()\n",
    "    for segment in segments:\n",
    "        line = Line2D((segment[0],segment[2]),(segment[1],segment[3]))\n",
    "        ax.add_line(line)\n",
    "\n",
    "def draw_xvline(segments):\n",
    "    for seg in segments:\n",
    "        x0 = seg[0]\n",
    "        plt.axvline(x=x0)"
   ]
  },
  {
   "cell_type": "markdown",
   "metadata": {},
   "source": [
    "# Function description"
   ]
  },
  {
   "cell_type": "raw",
   "metadata": {},
   "source": [
    "slidingwindowsegment(sequence, create_segment, compute_error, max_error, seq_range=None):\n",
    "Return a list of line segments that approximate the sequence.\n",
    "\n",
    "The list is computed using the sliding window technique. \n",
    "\n",
    "Parameters\n",
    "----------\n",
    "sequence : sequence to segment\n",
    "create_segment : a function of two arguments (sequence, sequence range) that returns a line segment that approximates the sequence data in the specified range\n",
    "compute_error: a function of two argments (sequence, segment) that returns the error from fitting the specified line segment to the sequence data\n",
    "max_error: the maximum allowable line segment fitting error"
   ]
  },
  {
   "cell_type": "raw",
   "metadata": {},
   "source": [
    "def bottomupsegment(sequence, create_segment, compute_error, max_error):\n",
    "    \"\"\"\n",
    "    Return a list of line segments that approximate the sequence.\n",
    "    \n",
    "    The list is computed using the bottom-up technique.\n",
    "    \n",
    "    Parameters\n",
    "    ----------\n",
    "    sequence : sequence to segment\n",
    "    create_segment : a function of two arguments (sequence, sequence range) that returns a line segment that approximates the sequence data in the specified range\n",
    "    compute_error: a function of two argments (sequence, segment) that returns the error from fitting the specified line segment to the sequence data\n",
    "    max_error: the maximum allowable line segment fitting error\n",
    "    \n",
    "    \"\"\""
   ]
  },
  {
   "cell_type": "raw",
   "metadata": {},
   "source": [
    "def topdownsegment(sequence, create_segment, compute_error, max_error, seq_range=None):\n",
    "    \"\"\"\n",
    "    Return a list of line segments that approximate the sequence.\n",
    "    \n",
    "    The list is computed using the bottom-up technique.\n",
    "    \n",
    "    Parameters\n",
    "    ----------\n",
    "    sequence : sequence to segment\n",
    "    create_segment : a function of two arguments (sequence, sequence range) that returns a line segment that approximates the sequence data in the specified range\n",
    "    compute_error: a function of two argments (sequence, segment) that returns the error from fitting the specified line segment to the sequence data\n",
    "    max_error: the maximum allowable line segment fitting error\n",
    "    \n",
    "    \"\"\""
   ]
  },
  {
   "cell_type": "markdown",
   "metadata": {},
   "source": [
    "# Segmentation "
   ]
  },
  {
   "cell_type": "markdown",
   "metadata": {},
   "source": [
    "## Data 2015"
   ]
  },
  {
   "cell_type": "code",
   "execution_count": 9,
   "metadata": {
    "ExecuteTime": {
     "end_time": "2023-06-07T11:19:49.479246Z",
     "start_time": "2023-06-07T11:19:49.448418Z"
    }
   },
   "outputs": [],
   "source": [
    "SWaT_2015_df = pd.read_pickle(DATA_PATH + \"swat_2015_attack_df.pkl\")"
   ]
  },
  {
   "cell_type": "code",
   "execution_count": 10,
   "metadata": {
    "ExecuteTime": {
     "end_time": "2023-06-07T11:19:52.721380Z",
     "start_time": "2023-06-07T11:19:52.681745Z"
    }
   },
   "outputs": [
    {
     "data": {
      "text/html": [
       "<div>\n",
       "<style scoped>\n",
       "    .dataframe tbody tr th:only-of-type {\n",
       "        vertical-align: middle;\n",
       "    }\n",
       "\n",
       "    .dataframe tbody tr th {\n",
       "        vertical-align: top;\n",
       "    }\n",
       "\n",
       "    .dataframe thead th {\n",
       "        text-align: right;\n",
       "    }\n",
       "</style>\n",
       "<table border=\"1\" class=\"dataframe\">\n",
       "  <thead>\n",
       "    <tr style=\"text-align: right;\">\n",
       "      <th></th>\n",
       "      <th>MV304</th>\n",
       "      <th>LIT301</th>\n",
       "      <th>AIT504</th>\n",
       "      <th>LIT101</th>\n",
       "      <th>UV401</th>\n",
       "      <th>AIT502</th>\n",
       "      <th>P501</th>\n",
       "      <th>Label</th>\n",
       "      <th>Timestamp</th>\n",
       "      <th>label_MV304</th>\n",
       "      <th>label_LIT301</th>\n",
       "      <th>label_AIT504</th>\n",
       "      <th>label_LIT101</th>\n",
       "      <th>label_UV401</th>\n",
       "      <th>label_AIT502</th>\n",
       "      <th>label_P501</th>\n",
       "    </tr>\n",
       "  </thead>\n",
       "  <tbody>\n",
       "    <tr>\n",
       "      <th>50401</th>\n",
       "      <td>1</td>\n",
       "      <td>817.8592</td>\n",
       "      <td>12.49680</td>\n",
       "      <td>814.2200</td>\n",
       "      <td>2</td>\n",
       "      <td>142.8608</td>\n",
       "      <td>2</td>\n",
       "      <td>Normal</td>\n",
       "      <td>2015-12-29 00:00:01</td>\n",
       "      <td>0</td>\n",
       "      <td>0</td>\n",
       "      <td>0</td>\n",
       "      <td>0</td>\n",
       "      <td>0</td>\n",
       "      <td>0</td>\n",
       "      <td>0</td>\n",
       "    </tr>\n",
       "    <tr>\n",
       "      <th>50402</th>\n",
       "      <td>1</td>\n",
       "      <td>816.8178</td>\n",
       "      <td>12.49680</td>\n",
       "      <td>814.4162</td>\n",
       "      <td>2</td>\n",
       "      <td>142.8608</td>\n",
       "      <td>2</td>\n",
       "      <td>Normal</td>\n",
       "      <td>2015-12-29 00:00:02</td>\n",
       "      <td>0</td>\n",
       "      <td>0</td>\n",
       "      <td>0</td>\n",
       "      <td>0</td>\n",
       "      <td>0</td>\n",
       "      <td>0</td>\n",
       "      <td>0</td>\n",
       "    </tr>\n",
       "    <tr>\n",
       "      <th>50403</th>\n",
       "      <td>1</td>\n",
       "      <td>816.2571</td>\n",
       "      <td>12.49680</td>\n",
       "      <td>814.0237</td>\n",
       "      <td>2</td>\n",
       "      <td>142.8608</td>\n",
       "      <td>2</td>\n",
       "      <td>Normal</td>\n",
       "      <td>2015-12-29 00:00:03</td>\n",
       "      <td>0</td>\n",
       "      <td>0</td>\n",
       "      <td>0</td>\n",
       "      <td>0</td>\n",
       "      <td>0</td>\n",
       "      <td>0</td>\n",
       "      <td>0</td>\n",
       "    </tr>\n",
       "    <tr>\n",
       "      <th>50404</th>\n",
       "      <td>1</td>\n",
       "      <td>815.9767</td>\n",
       "      <td>12.49680</td>\n",
       "      <td>814.1415</td>\n",
       "      <td>2</td>\n",
       "      <td>142.8608</td>\n",
       "      <td>2</td>\n",
       "      <td>Normal</td>\n",
       "      <td>2015-12-29 00:00:04</td>\n",
       "      <td>0</td>\n",
       "      <td>0</td>\n",
       "      <td>0</td>\n",
       "      <td>0</td>\n",
       "      <td>0</td>\n",
       "      <td>0</td>\n",
       "      <td>0</td>\n",
       "    </tr>\n",
       "    <tr>\n",
       "      <th>50405</th>\n",
       "      <td>1</td>\n",
       "      <td>815.2557</td>\n",
       "      <td>12.49680</td>\n",
       "      <td>814.2200</td>\n",
       "      <td>2</td>\n",
       "      <td>142.8608</td>\n",
       "      <td>2</td>\n",
       "      <td>Normal</td>\n",
       "      <td>2015-12-29 00:00:05</td>\n",
       "      <td>0</td>\n",
       "      <td>0</td>\n",
       "      <td>0</td>\n",
       "      <td>0</td>\n",
       "      <td>0</td>\n",
       "      <td>0</td>\n",
       "      <td>0</td>\n",
       "    </tr>\n",
       "    <tr>\n",
       "      <th>...</th>\n",
       "      <td>...</td>\n",
       "      <td>...</td>\n",
       "      <td>...</td>\n",
       "      <td>...</td>\n",
       "      <td>...</td>\n",
       "      <td>...</td>\n",
       "      <td>...</td>\n",
       "      <td>...</td>\n",
       "      <td>...</td>\n",
       "      <td>...</td>\n",
       "      <td>...</td>\n",
       "      <td>...</td>\n",
       "      <td>...</td>\n",
       "      <td>...</td>\n",
       "      <td>...</td>\n",
       "      <td>...</td>\n",
       "    </tr>\n",
       "    <tr>\n",
       "      <th>136795</th>\n",
       "      <td>1</td>\n",
       "      <td>794.7882</td>\n",
       "      <td>13.95796</td>\n",
       "      <td>763.5839</td>\n",
       "      <td>2</td>\n",
       "      <td>144.6039</td>\n",
       "      <td>2</td>\n",
       "      <td>Normal</td>\n",
       "      <td>2015-12-29 23:59:55</td>\n",
       "      <td>0</td>\n",
       "      <td>0</td>\n",
       "      <td>0</td>\n",
       "      <td>0</td>\n",
       "      <td>0</td>\n",
       "      <td>0</td>\n",
       "      <td>0</td>\n",
       "    </tr>\n",
       "    <tr>\n",
       "      <th>136796</th>\n",
       "      <td>1</td>\n",
       "      <td>794.7482</td>\n",
       "      <td>13.95796</td>\n",
       "      <td>762.7596</td>\n",
       "      <td>2</td>\n",
       "      <td>144.6039</td>\n",
       "      <td>2</td>\n",
       "      <td>Normal</td>\n",
       "      <td>2015-12-29 23:59:56</td>\n",
       "      <td>0</td>\n",
       "      <td>0</td>\n",
       "      <td>0</td>\n",
       "      <td>0</td>\n",
       "      <td>0</td>\n",
       "      <td>0</td>\n",
       "      <td>0</td>\n",
       "    </tr>\n",
       "    <tr>\n",
       "      <th>136797</th>\n",
       "      <td>1</td>\n",
       "      <td>794.8683</td>\n",
       "      <td>13.95796</td>\n",
       "      <td>761.7783</td>\n",
       "      <td>2</td>\n",
       "      <td>144.6039</td>\n",
       "      <td>2</td>\n",
       "      <td>Normal</td>\n",
       "      <td>2015-12-29 23:59:57</td>\n",
       "      <td>0</td>\n",
       "      <td>0</td>\n",
       "      <td>0</td>\n",
       "      <td>0</td>\n",
       "      <td>0</td>\n",
       "      <td>0</td>\n",
       "      <td>0</td>\n",
       "    </tr>\n",
       "    <tr>\n",
       "      <th>136798</th>\n",
       "      <td>1</td>\n",
       "      <td>795.3489</td>\n",
       "      <td>13.95796</td>\n",
       "      <td>761.1895</td>\n",
       "      <td>2</td>\n",
       "      <td>144.6039</td>\n",
       "      <td>2</td>\n",
       "      <td>Normal</td>\n",
       "      <td>2015-12-29 23:59:58</td>\n",
       "      <td>0</td>\n",
       "      <td>0</td>\n",
       "      <td>0</td>\n",
       "      <td>0</td>\n",
       "      <td>0</td>\n",
       "      <td>0</td>\n",
       "      <td>0</td>\n",
       "    </tr>\n",
       "    <tr>\n",
       "      <th>136799</th>\n",
       "      <td>1</td>\n",
       "      <td>795.7495</td>\n",
       "      <td>13.95796</td>\n",
       "      <td>760.7969</td>\n",
       "      <td>2</td>\n",
       "      <td>144.6039</td>\n",
       "      <td>2</td>\n",
       "      <td>Normal</td>\n",
       "      <td>2015-12-29 23:59:59</td>\n",
       "      <td>0</td>\n",
       "      <td>0</td>\n",
       "      <td>0</td>\n",
       "      <td>0</td>\n",
       "      <td>0</td>\n",
       "      <td>0</td>\n",
       "      <td>0</td>\n",
       "    </tr>\n",
       "  </tbody>\n",
       "</table>\n",
       "<p>86399 rows × 16 columns</p>\n",
       "</div>"
      ],
      "text/plain": [
       "        MV304    LIT301    AIT504    LIT101  UV401    AIT502  P501   Label  \\\n",
       "50401       1  817.8592  12.49680  814.2200      2  142.8608     2  Normal   \n",
       "50402       1  816.8178  12.49680  814.4162      2  142.8608     2  Normal   \n",
       "50403       1  816.2571  12.49680  814.0237      2  142.8608     2  Normal   \n",
       "50404       1  815.9767  12.49680  814.1415      2  142.8608     2  Normal   \n",
       "50405       1  815.2557  12.49680  814.2200      2  142.8608     2  Normal   \n",
       "...       ...       ...       ...       ...    ...       ...   ...     ...   \n",
       "136795      1  794.7882  13.95796  763.5839      2  144.6039     2  Normal   \n",
       "136796      1  794.7482  13.95796  762.7596      2  144.6039     2  Normal   \n",
       "136797      1  794.8683  13.95796  761.7783      2  144.6039     2  Normal   \n",
       "136798      1  795.3489  13.95796  761.1895      2  144.6039     2  Normal   \n",
       "136799      1  795.7495  13.95796  760.7969      2  144.6039     2  Normal   \n",
       "\n",
       "                 Timestamp  label_MV304  label_LIT301  label_AIT504  \\\n",
       "50401  2015-12-29 00:00:01            0             0             0   \n",
       "50402  2015-12-29 00:00:02            0             0             0   \n",
       "50403  2015-12-29 00:00:03            0             0             0   \n",
       "50404  2015-12-29 00:00:04            0             0             0   \n",
       "50405  2015-12-29 00:00:05            0             0             0   \n",
       "...                    ...          ...           ...           ...   \n",
       "136795 2015-12-29 23:59:55            0             0             0   \n",
       "136796 2015-12-29 23:59:56            0             0             0   \n",
       "136797 2015-12-29 23:59:57            0             0             0   \n",
       "136798 2015-12-29 23:59:58            0             0             0   \n",
       "136799 2015-12-29 23:59:59            0             0             0   \n",
       "\n",
       "        label_LIT101  label_UV401  label_AIT502  label_P501  \n",
       "50401              0            0             0           0  \n",
       "50402              0            0             0           0  \n",
       "50403              0            0             0           0  \n",
       "50404              0            0             0           0  \n",
       "50405              0            0             0           0  \n",
       "...              ...          ...           ...         ...  \n",
       "136795             0            0             0           0  \n",
       "136796             0            0             0           0  \n",
       "136797             0            0             0           0  \n",
       "136798             0            0             0           0  \n",
       "136799             0            0             0           0  \n",
       "\n",
       "[86399 rows x 16 columns]"
      ]
     },
     "execution_count": 10,
     "metadata": {},
     "output_type": "execute_result"
    }
   ],
   "source": [
    "SWaT_2015_df"
   ]
  },
  {
   "cell_type": "code",
   "execution_count": 11,
   "metadata": {
    "ExecuteTime": {
     "end_time": "2023-06-07T11:19:55.592635Z",
     "start_time": "2023-06-07T11:19:55.585912Z"
    }
   },
   "outputs": [
    {
     "data": {
      "text/plain": [
       "(86399, 16)"
      ]
     },
     "execution_count": 11,
     "metadata": {},
     "output_type": "execute_result"
    }
   ],
   "source": [
    "SWaT_2015_df.shape"
   ]
  },
  {
   "cell_type": "code",
   "execution_count": 12,
   "metadata": {
    "ExecuteTime": {
     "end_time": "2023-06-07T11:20:20.389428Z",
     "start_time": "2023-06-07T11:20:20.376674Z"
    }
   },
   "outputs": [],
   "source": [
    "data = list(SWaT_2015_df.LIT301.values)"
   ]
  },
  {
   "cell_type": "markdown",
   "metadata": {},
   "source": [
    "## Data 2019"
   ]
  },
  {
   "cell_type": "code",
   "execution_count": 17,
   "metadata": {
    "ExecuteTime": {
     "end_time": "2023-06-07T11:24:48.473584Z",
     "start_time": "2023-06-07T11:24:48.464877Z"
    }
   },
   "outputs": [],
   "source": [
    "SWaT_2019_df = pd.read_pickle(DATA_PATH + \"swat_2019_attack_df.pkl\")"
   ]
  },
  {
   "cell_type": "code",
   "execution_count": 18,
   "metadata": {
    "ExecuteTime": {
     "end_time": "2023-06-07T11:24:59.535357Z",
     "start_time": "2023-06-07T11:24:59.506263Z"
    }
   },
   "outputs": [
    {
     "data": {
      "text/html": [
       "<div>\n",
       "<style scoped>\n",
       "    .dataframe tbody tr th:only-of-type {\n",
       "        vertical-align: middle;\n",
       "    }\n",
       "\n",
       "    .dataframe tbody tr th {\n",
       "        vertical-align: top;\n",
       "    }\n",
       "\n",
       "    .dataframe thead th {\n",
       "        text-align: right;\n",
       "    }\n",
       "</style>\n",
       "<table border=\"1\" class=\"dataframe\">\n",
       "  <thead>\n",
       "    <tr style=\"text-align: right;\">\n",
       "      <th></th>\n",
       "      <th>FIT 401</th>\n",
       "      <th>LIT 301</th>\n",
       "      <th>P601 Status</th>\n",
       "      <th>MV201</th>\n",
       "      <th>P101 Status</th>\n",
       "      <th>MV 501</th>\n",
       "      <th>P301 Status</th>\n",
       "      <th>Timestamps</th>\n",
       "      <th>label_FIT 401</th>\n",
       "      <th>label_LIT 301</th>\n",
       "      <th>label_P601 Status</th>\n",
       "      <th>label_MV201</th>\n",
       "      <th>label_P101 Status</th>\n",
       "      <th>label_MV 501</th>\n",
       "      <th>label_P301 Status</th>\n",
       "    </tr>\n",
       "  </thead>\n",
       "  <tbody>\n",
       "    <tr>\n",
       "      <th>0</th>\n",
       "      <td>0.781740</td>\n",
       "      <td>730.702100</td>\n",
       "      <td>1</td>\n",
       "      <td>2</td>\n",
       "      <td>2</td>\n",
       "      <td>2</td>\n",
       "      <td>1</td>\n",
       "      <td>2019-07-20 04:30:00.000000000</td>\n",
       "      <td>0</td>\n",
       "      <td>0</td>\n",
       "      <td>0</td>\n",
       "      <td>0</td>\n",
       "      <td>0</td>\n",
       "      <td>0</td>\n",
       "      <td>0</td>\n",
       "    </tr>\n",
       "    <tr>\n",
       "      <th>1</th>\n",
       "      <td>0.782380</td>\n",
       "      <td>730.902344</td>\n",
       "      <td>1</td>\n",
       "      <td>2</td>\n",
       "      <td>2</td>\n",
       "      <td>2</td>\n",
       "      <td>1</td>\n",
       "      <td>2019-07-20 04:30:01.000000000</td>\n",
       "      <td>0</td>\n",
       "      <td>0</td>\n",
       "      <td>0</td>\n",
       "      <td>0</td>\n",
       "      <td>0</td>\n",
       "      <td>0</td>\n",
       "      <td>0</td>\n",
       "    </tr>\n",
       "    <tr>\n",
       "      <th>2</th>\n",
       "      <td>0.783021</td>\n",
       "      <td>732.344300</td>\n",
       "      <td>1</td>\n",
       "      <td>2</td>\n",
       "      <td>2</td>\n",
       "      <td>2</td>\n",
       "      <td>1</td>\n",
       "      <td>2019-07-20 04:30:02.004013000</td>\n",
       "      <td>0</td>\n",
       "      <td>0</td>\n",
       "      <td>0</td>\n",
       "      <td>0</td>\n",
       "      <td>0</td>\n",
       "      <td>0</td>\n",
       "      <td>0</td>\n",
       "    </tr>\n",
       "    <tr>\n",
       "      <th>3</th>\n",
       "      <td>0.783021</td>\n",
       "      <td>732.704800</td>\n",
       "      <td>1</td>\n",
       "      <td>2</td>\n",
       "      <td>2</td>\n",
       "      <td>2</td>\n",
       "      <td>1</td>\n",
       "      <td>2019-07-20 04:30:03.004013000</td>\n",
       "      <td>0</td>\n",
       "      <td>0</td>\n",
       "      <td>0</td>\n",
       "      <td>0</td>\n",
       "      <td>0</td>\n",
       "      <td>0</td>\n",
       "      <td>0</td>\n",
       "    </tr>\n",
       "    <tr>\n",
       "      <th>4</th>\n",
       "      <td>0.781228</td>\n",
       "      <td>732.744800</td>\n",
       "      <td>1</td>\n",
       "      <td>2</td>\n",
       "      <td>2</td>\n",
       "      <td>2</td>\n",
       "      <td>1</td>\n",
       "      <td>2019-07-20 04:30:04.000000000</td>\n",
       "      <td>0</td>\n",
       "      <td>0</td>\n",
       "      <td>0</td>\n",
       "      <td>0</td>\n",
       "      <td>0</td>\n",
       "      <td>0</td>\n",
       "      <td>0</td>\n",
       "    </tr>\n",
       "    <tr>\n",
       "      <th>...</th>\n",
       "      <td>...</td>\n",
       "      <td>...</td>\n",
       "      <td>...</td>\n",
       "      <td>...</td>\n",
       "      <td>...</td>\n",
       "      <td>...</td>\n",
       "      <td>...</td>\n",
       "      <td>...</td>\n",
       "      <td>...</td>\n",
       "      <td>...</td>\n",
       "      <td>...</td>\n",
       "      <td>...</td>\n",
       "      <td>...</td>\n",
       "      <td>...</td>\n",
       "      <td>...</td>\n",
       "    </tr>\n",
       "    <tr>\n",
       "      <th>14991</th>\n",
       "      <td>0.809271</td>\n",
       "      <td>883.227051</td>\n",
       "      <td>1</td>\n",
       "      <td>2</td>\n",
       "      <td>2</td>\n",
       "      <td>2</td>\n",
       "      <td>2</td>\n",
       "      <td>2019-07-20 08:39:55.001007000</td>\n",
       "      <td>0</td>\n",
       "      <td>0</td>\n",
       "      <td>0</td>\n",
       "      <td>0</td>\n",
       "      <td>0</td>\n",
       "      <td>0</td>\n",
       "      <td>0</td>\n",
       "    </tr>\n",
       "    <tr>\n",
       "      <th>14992</th>\n",
       "      <td>0.809271</td>\n",
       "      <td>883.227051</td>\n",
       "      <td>1</td>\n",
       "      <td>2</td>\n",
       "      <td>2</td>\n",
       "      <td>2</td>\n",
       "      <td>2</td>\n",
       "      <td>2019-07-20 08:39:56.005004800</td>\n",
       "      <td>0</td>\n",
       "      <td>0</td>\n",
       "      <td>0</td>\n",
       "      <td>0</td>\n",
       "      <td>0</td>\n",
       "      <td>0</td>\n",
       "      <td>0</td>\n",
       "    </tr>\n",
       "    <tr>\n",
       "      <th>14993</th>\n",
       "      <td>0.809271</td>\n",
       "      <td>883.387268</td>\n",
       "      <td>1</td>\n",
       "      <td>2</td>\n",
       "      <td>2</td>\n",
       "      <td>2</td>\n",
       "      <td>2</td>\n",
       "      <td>2019-07-20 08:39:57.005004800</td>\n",
       "      <td>0</td>\n",
       "      <td>0</td>\n",
       "      <td>0</td>\n",
       "      <td>0</td>\n",
       "      <td>0</td>\n",
       "      <td>0</td>\n",
       "      <td>0</td>\n",
       "    </tr>\n",
       "    <tr>\n",
       "      <th>14994</th>\n",
       "      <td>0.808631</td>\n",
       "      <td>883.908000</td>\n",
       "      <td>1</td>\n",
       "      <td>2</td>\n",
       "      <td>2</td>\n",
       "      <td>2</td>\n",
       "      <td>2</td>\n",
       "      <td>2019-07-20 08:39:58.005004800</td>\n",
       "      <td>0</td>\n",
       "      <td>0</td>\n",
       "      <td>0</td>\n",
       "      <td>0</td>\n",
       "      <td>0</td>\n",
       "      <td>0</td>\n",
       "      <td>0</td>\n",
       "    </tr>\n",
       "    <tr>\n",
       "      <th>14995</th>\n",
       "      <td>0.807990</td>\n",
       "      <td>883.908000</td>\n",
       "      <td>1</td>\n",
       "      <td>2</td>\n",
       "      <td>2</td>\n",
       "      <td>2</td>\n",
       "      <td>2</td>\n",
       "      <td>2019-07-20 08:39:59.004013000</td>\n",
       "      <td>0</td>\n",
       "      <td>0</td>\n",
       "      <td>0</td>\n",
       "      <td>0</td>\n",
       "      <td>0</td>\n",
       "      <td>0</td>\n",
       "      <td>0</td>\n",
       "    </tr>\n",
       "  </tbody>\n",
       "</table>\n",
       "<p>14996 rows × 15 columns</p>\n",
       "</div>"
      ],
      "text/plain": [
       "        FIT 401     LIT 301  P601 Status  MV201  P101 Status  MV 501  \\\n",
       "0      0.781740  730.702100            1      2            2       2   \n",
       "1      0.782380  730.902344            1      2            2       2   \n",
       "2      0.783021  732.344300            1      2            2       2   \n",
       "3      0.783021  732.704800            1      2            2       2   \n",
       "4      0.781228  732.744800            1      2            2       2   \n",
       "...         ...         ...          ...    ...          ...     ...   \n",
       "14991  0.809271  883.227051            1      2            2       2   \n",
       "14992  0.809271  883.227051            1      2            2       2   \n",
       "14993  0.809271  883.387268            1      2            2       2   \n",
       "14994  0.808631  883.908000            1      2            2       2   \n",
       "14995  0.807990  883.908000            1      2            2       2   \n",
       "\n",
       "       P301 Status                    Timestamps  label_FIT 401  \\\n",
       "0                1 2019-07-20 04:30:00.000000000              0   \n",
       "1                1 2019-07-20 04:30:01.000000000              0   \n",
       "2                1 2019-07-20 04:30:02.004013000              0   \n",
       "3                1 2019-07-20 04:30:03.004013000              0   \n",
       "4                1 2019-07-20 04:30:04.000000000              0   \n",
       "...            ...                           ...            ...   \n",
       "14991            2 2019-07-20 08:39:55.001007000              0   \n",
       "14992            2 2019-07-20 08:39:56.005004800              0   \n",
       "14993            2 2019-07-20 08:39:57.005004800              0   \n",
       "14994            2 2019-07-20 08:39:58.005004800              0   \n",
       "14995            2 2019-07-20 08:39:59.004013000              0   \n",
       "\n",
       "       label_LIT 301  label_P601 Status  label_MV201  label_P101 Status  \\\n",
       "0                  0                  0            0                  0   \n",
       "1                  0                  0            0                  0   \n",
       "2                  0                  0            0                  0   \n",
       "3                  0                  0            0                  0   \n",
       "4                  0                  0            0                  0   \n",
       "...              ...                ...          ...                ...   \n",
       "14991              0                  0            0                  0   \n",
       "14992              0                  0            0                  0   \n",
       "14993              0                  0            0                  0   \n",
       "14994              0                  0            0                  0   \n",
       "14995              0                  0            0                  0   \n",
       "\n",
       "       label_MV 501  label_P301 Status  \n",
       "0                 0                  0  \n",
       "1                 0                  0  \n",
       "2                 0                  0  \n",
       "3                 0                  0  \n",
       "4                 0                  0  \n",
       "...             ...                ...  \n",
       "14991             0                  0  \n",
       "14992             0                  0  \n",
       "14993             0                  0  \n",
       "14994             0                  0  \n",
       "14995             0                  0  \n",
       "\n",
       "[14996 rows x 15 columns]"
      ]
     },
     "execution_count": 18,
     "metadata": {},
     "output_type": "execute_result"
    }
   ],
   "source": [
    "SWaT_2019_df"
   ]
  },
  {
   "cell_type": "code",
   "execution_count": 32,
   "metadata": {
    "ExecuteTime": {
     "end_time": "2023-06-07T11:58:47.435270Z",
     "start_time": "2023-06-07T11:57:03.386148Z"
    }
   },
   "outputs": [
    {
     "data": {
      "image/png": "[encoded data removed]",
      "text/plain": [
       "<Figure size 1440x360 with 1 Axes>"
      ]
     },
     "metadata": {
      "needs_background": "light"
     },
     "output_type": "display_data"
    }
   ],
   "source": [
    "max_error = 0.1\n",
    "data = list(SWaT_2019_df[\"FIT 401\"].values)\n",
    "ts_segments, line_segments = segment.get_ts_segments(segment.topdownsegment, data, fit.regression, fit.sumsquared_error, max_error)\n",
    "figure(figsize=(20,5))\n",
    "draw_plot(data,\"Top-down with regression 0.1\")\n",
    "draw_xvline(line_segments)"
   ]
  },
  {
   "cell_type": "code",
   "execution_count": 33,
   "metadata": {
    "ExecuteTime": {
     "end_time": "2023-06-07T12:00:30.452858Z",
     "start_time": "2023-06-07T11:58:47.542481Z"
    }
   },
   "outputs": [
    {
     "data": {
      "image/png": "[encoded data removed]",
      "text/plain": [
       "<Figure size 1440x360 with 1 Axes>"
      ]
     },
     "metadata": {
      "needs_background": "light"
     },
     "output_type": "display_data"
    }
   ],
   "source": [
    "max_error = 0.5\n",
    "data = list(SWaT_2019_df[\"FIT 401\"].values)\n",
    "ts_segments, line_segments = segment.get_ts_segments(segment.topdownsegment, data, fit.regression, fit.sumsquared_error, max_error)\n",
    "figure(figsize=(20,5))\n",
    "draw_plot(data,\"Top-down with regression 0.5\")\n",
    "draw_xvline(line_segments)"
   ]
  },
  {
   "cell_type": "code",
   "execution_count": 35,
   "metadata": {
    "ExecuteTime": {
     "end_time": "2023-06-07T13:23:35.472822Z",
     "start_time": "2023-06-07T13:19:54.575706Z"
    }
   },
   "outputs": [
    {
     "data": {
      "image/png": "[encoded data removed]",
      "text/plain": [
       "<Figure size 1440x360 with 1 Axes>"
      ]
     },
     "metadata": {
      "needs_background": "light"
     },
     "output_type": "display_data"
    }
   ],
   "source": [
    "max_error = 0.5\n",
    "data = list(SWaT_2019_df[\"LIT 301\"].values)\n",
    "ts_segments, line_segments = segment.get_ts_segments(segment.topdownsegment, data, fit.regression, fit.sumsquared_error, max_error)\n",
    "figure(figsize=(20,5))\n",
    "draw_plot(data,\"Top-down with regression 0.5\")\n",
    "draw_xvline(line_segments)"
   ]
  },
  {
   "cell_type": "code",
   "execution_count": 44,
   "metadata": {
    "ExecuteTime": {
     "end_time": "2023-06-07T14:47:05.419679Z",
     "start_time": "2023-06-07T14:43:49.598520Z"
    }
   },
   "outputs": [
    {
     "data": {
      "image/png": "[encoded data removed]",
      "text/plain": [
       "<Figure size 1440x360 with 1 Axes>"
      ]
     },
     "metadata": {
      "needs_background": "light"
     },
     "output_type": "display_data"
    }
   ],
   "source": [
    "max_error = 10000\n",
    "data = list(SWaT_2019_df[\"LIT 301\"].values)\n",
    "ts_segments, line_segments = segment.get_ts_segments(segment.topdownsegment, data, fit.regression, fit.sumsquared_error, max_error)\n",
    "figure(figsize=(20,5))\n",
    "draw_plot(data,\"Top-down with regression 0.5\")\n",
    "draw_xvline(line_segments)"
   ]
  },
  {
   "cell_type": "code",
   "execution_count": null,
   "metadata": {},
   "outputs": [],
   "source": []
  }
 ],
 "metadata": {
  "kernelspec": {
   "display_name": "jupyter_kernel",
   "language": "python",
   "name": "jupyter_kernel"
  },
  "language_info": {
   "codemirror_mode": {
    "name": "ipython",
    "version": 3
   },
   "file_extension": ".py",
   "mimetype": "text/x-python",
   "name": "python",
   "nbconvert_exporter": "python",
   "pygments_lexer": "ipython3",
   "version": "3.8.13"
  },
  "toc": {
   "base_numbering": 1,
   "nav_menu": {},
   "number_sections": true,
   "sideBar": true,
   "skip_h1_title": false,
   "title_cell": "Table of Contents",
   "title_sidebar": "Contents",
   "toc_cell": false,
   "toc_position": {},
   "toc_section_display": true,
   "toc_window_display": true
  },
  "varInspector": {
   "cols": {
    "lenName": 16,
    "lenType": 16,
    "lenVar": 40
   },
   "kernels_config": {
    "python": {
     "delete_cmd_postfix": "",
     "delete_cmd_prefix": "del ",
     "library": "var_list.py",
     "varRefreshCmd": "print(var_dic_list())"
    },
    "r": {
     "delete_cmd_postfix": ") ",
     "delete_cmd_prefix": "rm(",
     "library": "var_list.r",
     "varRefreshCmd": "cat(var_dic_list()) "
    }
   },
   "types_to_exclude": [
    "module",
    "function",
    "builtin_function_or_method",
    "instance",
    "_Feature"
   ],
   "window_display": false
  }
 },
 "nbformat": 4,
 "nbformat_minor": 4
}
